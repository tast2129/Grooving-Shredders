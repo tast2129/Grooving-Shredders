{
 "cells": [
  {
   "cell_type": "markdown",
   "metadata": {},
   "source": [
    "# Integration Test 2\n",
    "Performs twitch and measure sequence."
   ]
  },
  {
   "cell_type": "code",
   "execution_count": null,
   "metadata": {},
   "outputs": [],
   "source": [
    "# Imports\n",
    "import numpy as np\n",
    "import scipy\n",
    "import scipy.signal as signal\n",
    "import scipy.interpolate as interpolate\n",
    "import matplotlib.pyplot as plt\n",
    "import plotly.graph_objs as go\n",
    "from plotly.subplots import make_subplots\n",
    "from scipy.interpolate import CubicSpline\n",
    "from scipy.signal import hilbert\n",
    "import numpy as np\n",
    "import ipywidgets as ipw\n",
    "import base64\n",
    "from random import randint\n",
    "from pynq import Clocks\n",
    "import xrfdc\n",
    "import os\n",
    "from pynq.lib import Pmod_IO\n",
    "import time\n",
    "\n",
    "# Use the RFSoC base overlay\n",
    "from pynq.overlays.base import BaseOverlay\n",
    "\n",
    "base = BaseOverlay('base.bit')\n",
    "\n",
    "# Start RF clocks\n",
    "base.init_rf_clks()"
   ]
  },
  {
   "cell_type": "markdown",
   "metadata": {},
   "source": [
    "# ADC Initialization\n",
    "Use ADC D for this demo. Both mixers bypassed, real data viewed. Sample frequency is 4.9152GHz. Decimator is bypassed."
   ]
  },
  {
   "cell_type": "code",
   "execution_count": null,
   "metadata": {},
   "outputs": [],
   "source": [
    "# ADC initialization\n",
    "# Channels\n",
    "DAC_CHANNEL_B = 0 # 'Channel 0': {'Tile': 224, 'Block': 0}\n",
    "DAC_CHANNEL_A = 1 # 'Channel 1': {'Tile': 230, 'Block': 0}\n",
    "\n",
    "ADC_CHANNEL_D = 0 # 'Channel 0': {'Tile': 224, 'Block': 0}\n",
    "ADC_CHANNEL_C = 1 # 'Channel 1': {'Tile': 224, 'Block': 1}\n",
    "ADC_CHANNEL_B = 2 # 'Channel 2': {'Tile': 226, 'Block': 0}\n",
    "ADC_CHANNEL_A = 3 # 'Channel 3': {'Tile': 226, 'Block': 1}\n",
    "\n",
    "adc_array = [ADC_CHANNEL_D, ADC_CHANNEL_C, ADC_CHANNEL_B, ADC_CHANNEL_A]\n",
    "\n",
    "adc_char_array = ['D', 'B', 'C', 'A']\n",
    "\n",
    "number_samples = 32768  # Between 16 and 32768\n",
    "decimation_factor = 1 # 2 is default\n",
    "sample_frequency = 4915.2e6/decimation_factor  # Hz The default sample frequency is 4915.2e6 Hz which is sufficient for our signal\n",
    "\n",
    "original_adc_settings = base.radio.receiver.channel[ADC_CHANNEL_D].adc_block.MixerSettings\n",
    "\n",
    "for ADC in adc_array:\n",
    "    base.radio.receiver.channel[ADC].adc_block.DecimationFactor = decimation_factor\n",
    "    base.radio.receiver.channel[ADC].adc_block.MixerSettings = {\n",
    "        'CoarseMixFreq':  xrfdc.COARSE_MIX_BYPASS,\n",
    "        'EventSource':    xrfdc.EVNT_SRC_TILE, \n",
    "        'FineMixerScale': xrfdc.MIXER_SCALE_1P0,\n",
    "        'Freq':           0.0,\n",
    "        'MixerMode':      xrfdc.MIXER_MODE_R2C,\n",
    "        'MixerType':      xrfdc.MIXER_TYPE_COARSE,\n",
    "        'PhaseOffset':    0.0\n",
    "    }\n",
    "    base.radio.receiver.channel[ADC].adc_block.UpdateEvent(xrfdc.EVENT_MIXER)"
   ]
  },
  {
   "cell_type": "markdown",
   "metadata": {},
   "source": [
    "# Initialize PMOD\n",
    "Use one out pin to trigger Lazy Harold to perform one twitch. Drive pin low to start."
   ]
  },
  {
   "cell_type": "code",
   "execution_count": null,
   "metadata": {},
   "outputs": [],
   "source": [
    "lazy_harold_ear = Pmod_IO(base.PMODB,2,'out')\n",
    "\n",
    "lazy_harold_ear.write(0)    # Drive pin low"
   ]
  },
  {
   "cell_type": "markdown",
   "metadata": {},
   "source": [
    "one = 0\n",
    "zero = 0\n",
    "count = 0\n",
    "while count < 100000:\n",
    "    if lazy_harold_mouth.read() == 1:\n",
    "        one += 1\n",
    "    else:\n",
    "        zero += 1\n",
    "    count += 1\n",
    "print(\"one:\", one)\n",
    "print(\"zero:\", zero)\n",
    "print(one/(zero+one)*100)\n",
    "    "
   ]
  },
  {
   "cell_type": "markdown",
   "metadata": {},
   "source": [
    "# View raw and interpolated data\n",
    "Print power of each signal and values used in calculation for comparison with scope values. Not used currently."
   ]
  },
  {
   "cell_type": "raw",
   "metadata": {},
   "source": [
    "rx_amplitude_data = []\n",
    "rx_power_data = []\n",
    "\n",
    "rx_amplitude_data.append(base.radio.receiver.channel[antenna_adc].transfer(number_samples))\n",
    "\n",
    "time_data = np.arange(0, number_samples/sample_frequency, 1/sample_frequency)\n",
    "sampled_signal = np.real(rx_amplitude_data[0])\n",
    "cs_real = CubicSpline(time_data, sampled_signal)\n",
    "\n",
    "# Interpolated data\n",
    "dense_t = np.linspace(time_data.min(), time_data.max(), len(time_data) * 10)  # Increase density\n",
    "interpolated_signal = cs_real(dense_t)\n",
    "\n",
    "# Create Plotly figure\n",
    "fig = make_subplots(specs=[[{\"secondary_y\": False}]])  # Adjust as necessary\n",
    "\n",
    "# Add actual data trace\n",
    "fig.add_trace(\n",
    "go.Scatter(x=time_data, y=sampled_signal, name=f\"Actual Data ADC D\"),\n",
    "secondary_y=False,\n",
    ")\n",
    "\n",
    "# Add interpolated data trace\n",
    "fig.add_trace(\n",
    "go.Scatter(x=dense_t, y=interpolated_signal, name=f\"Interpolated Data ADC D\"),\n",
    "secondary_y=False,\n",
    ")\n",
    "\n",
    "fig.show()\n",
    "    \n",
    "# Calculate power\n",
    "rx_amplitude_data_real = np.real(rx_amplitude_data[0])\n",
    "rx_power_data.append(10*np.log10((np.square(rx_amplitude_data_real[np.argmax(rx_amplitude_data_real)]/np.sqrt(2))/100)/.001))\n",
    "rx_power_data.append(10*np.log10((np.square(interpolated_signal[np.argmax(interpolated_signal)]/np.sqrt(2))/100)/.001))\n",
    "print(\"Raw data calculated power:\", rx_power_data[0], \"using Vrms:\", rx_amplitude_data_real[np.argmax(rx_amplitude_data_real)]/np.sqrt(2), \"calculated using Vp:\", rx_amplitude_data_real[np.argmax(rx_amplitude_data_real)])\n",
    "print(\"Interpolated data calculated power:\", rx_power_data[1], \"using Vrms:\", interpolated_signal[np.argmax(interpolated_signal)]/np.sqrt(2), \"calculated using Vp:\", interpolated_signal[np.argmax(interpolated_signal)])"
   ]
  },
  {
   "cell_type": "markdown",
   "metadata": {},
   "source": [
    "# Perform Measure and Twitch Sequence\n",
    "Attempting to generate beamformed pattern. NOT WORKING CURRENTLY! Beamforming will not work in PYNQ because samples can't be transferred for multiple ADCs at the same time. \n",
    "\n",
    "UI controls step size and range of sweep. Test [-90, 90] degrees at step size of .9 degrees for this demo.\n",
    "Expecting 201 steps and 201 corresponding calculated power values."
   ]
  },
  {
   "cell_type": "code",
   "execution_count": null,
   "metadata": {},
   "outputs": [],
   "source": [
    "lazy_harold_ear.write(0)    # Drive pin low"
   ]
  },
  {
   "cell_type": "code",
   "execution_count": 7,
   "metadata": {},
   "outputs": [
    {
     "name": "stdout",
     "output_type": "stream",
     "text": [
      "beamforming_weights: [ 1.00000000e+00+0.0000000e+00j  2.83276945e-16-1.0000000e+00j\n",
      " -1.00000000e+00-5.6655389e-16j -1.07187544e-15+1.0000000e+00j]\n"
     ]
    }
   ],
   "source": [
    "ADC_CHANNEL_D = 0 # 'Channel 0': {'Tile': 224, 'Block': 0}\n",
    "ADC_CHANNEL_C = 1 # 'Channel 1': {'Tile': 224, 'Block': 1}\n",
    "ADC_CHANNEL_B = 2 # 'Channel 2': {'Tile': 226, 'Block': 0}\n",
    "ADC_CHANNEL_A = 3 # 'Channel 3': {'Tile': 226, 'Block': 1}\n",
    "\n",
    "adc_array = [ADC_CHANNEL_D, ADC_CHANNEL_C, ADC_CHANNEL_B, ADC_CHANNEL_A]\n",
    "\n",
    "# Beamforming variables\n",
    "d = 0.5 # half wavelength spacing\n",
    "Nr = len(adc_array)\n",
    "theta_degrees = 30 # direction of arrival (feel free to change this, it's arbitrary)\n",
    "theta = theta_degrees / 180 * np.pi # convert to radians\n",
    "\n",
    "beamforming_weights = np.exp(-2j * np.pi * d * np.arange(Nr) * np.sin(theta)) # array factor\n",
    "\n",
    "print(\"beamforming_weights:\", beamforming_weights)\n",
    "beamformed_data = [None] * len(adc_array)\n",
    "summed_signal = []\n",
    "\n",
    "# Test system variables\n",
    "message = 1\n",
    "LH_step_size = .9\n",
    "start_angle = -90 # (degrees)\n",
    "sweep_degrees = 180 # Choose MUST BE MULTIPLE OF .9 (degrees)\n",
    "if (int(sweep_degrees%LH_step_size)) != 0:\n",
    "    print(\"Invalid sweep_degrees. Choose value divisible by\", LH_step_size)\n",
    "number_of_measurements = (sweep_degrees / LH_step_size) + 1\n",
    "\n",
    "\n",
    "end_angle = start_angle + sweep_degrees # (degrees)\n",
    "actual_radians = sweep_degrees*(np.pi/180)\n",
    "print(\"Sweeping\", sweep_degrees, \"degrees to generate radiation pattern using\", int(number_of_measurements), \"measurements recorded between\", start_angle, \"degrees and\", end_angle, \"degrees every\", LH_step_size, \"degrees...\")\n",
    "\n",
    "rx_amplitude_data = []\n",
    "rx_power_data = []\n",
    "\n",
    "for measurement in range(0, int(number_of_measurements)):\n",
    "    \n",
    "    # Take measurement\n",
    "    for ADC in adc_array:\n",
    "        rx_amplitude_data.append(np.real(base.radio.receiver.channel[ADC].transfer(number_samples)))\n",
    "\n",
    "    beamformed_data = beamforming_weights.conj().T @ rx_amplitude_data\n",
    "    rx_power_data.append(10*np.log10((np.square(beamformed_data[np.argmax(beamformed_data)]/np.sqrt(2))/100)/.001))\n",
    "    rx_amplitude_data = []\n",
    "    \n",
    "    # Tell LH measurement is complete\n",
    "    if measurement != (number_of_measurements - 1):\n",
    "        lazy_harold_ear.write(message)\n",
    "        if message == 1:\n",
    "            message = 0\n",
    "        else:\n",
    "            message = 1\n",
    "\n",
    "    # Give LH time to complete a twitch\n",
    "    time.sleep(1)  \n",
    "        \n",
    "fig, ax = plt.subplots(subplot_kw={'projection': 'polar'})\n",
    "ax.plot(np.linspace(-np.pi/2, (-np.pi/2)+actual_radians, int(number_of_measurements)), rx_power_data) # MAKE SURE TO USE RADIAN FOR POLAR\n",
    "ax.set_theta_zero_location('N') # make 0 degrees point up\n",
    "ax.set_theta_direction(-1) # increase clockwise\n",
    "ax.set_rlabel_position(55)  # Move grid labels away from other labels\n",
    "plt.show()\n",
    "\n",
    "print(\"Expected amount of steps and measurements:\", 201)\n",
    "print(\"Actual amount of steps and measurements:\", len(rx_power_data))\n",
    "print(\"Expected max power:\", 10.44009951, \"dBm\")\n",
    "print(\"Actual max power:\", rx_power_data[np.argmax(rx_power_data)], \"dBm\")\n",
    "print(\"Detected at:\", start_angle + (np.argmax(rx_power_data)*LH_step_size), \"degrees\")\n",
    "print(\"Average power:\", np.average(rx_power_data), \"dBm\")"
   ]
  }
 ],
 "metadata": {
  "kernelspec": {
   "display_name": "Python 3 (ipykernel)",
   "language": "python",
   "name": "python3"
  },
  "language_info": {
   "codemirror_mode": {
    "name": "ipython",
    "version": 3
   },
   "file_extension": ".py",
   "mimetype": "text/x-python",
   "name": "python",
   "nbconvert_exporter": "python",
   "pygments_lexer": "ipython3",
   "version": "3.9.9"
  }
 },
 "nbformat": 4,
 "nbformat_minor": 4
}
