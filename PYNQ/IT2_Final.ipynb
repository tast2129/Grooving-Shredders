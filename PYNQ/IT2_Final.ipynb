{
 "cells": [
  {
   "cell_type": "markdown",
   "id": "1251c84a-5d13-4380-a42c-751be5b0a747",
   "metadata": {},
   "source": [
    "# Gabe, develop this script!\n",
    "Alot of this is working in the other script but needs to be checked. The GPIO is really what needs work."
   ]
  },
  {
   "cell_type": "code",
   "execution_count": 1,
   "id": "99340fe0-650e-4f3c-96ca-a7cbe825c227",
   "metadata": {},
   "outputs": [
    {
     "data": {
      "application/javascript": [
       "\n",
       "try {\n",
       "require(['notebook/js/codecell'], function(codecell) {\n",
       "  codecell.CodeCell.options_default.highlight_modes[\n",
       "      'magic_text/x-csrc'] = {'reg':[/^%%microblaze/]};\n",
       "  Jupyter.notebook.events.one('kernel_ready.Kernel', function(){\n",
       "      Jupyter.notebook.get_cells().map(function(cell){\n",
       "          if (cell.cell_type == 'code'){ cell.auto_highlight(); } }) ;\n",
       "  });\n",
       "});\n",
       "} catch (e) {};\n"
      ]
     },
     "metadata": {},
     "output_type": "display_data"
    },
    {
     "data": {
      "application/javascript": [
       "\n",
       "try {\n",
       "require(['notebook/js/codecell'], function(codecell) {\n",
       "  codecell.CodeCell.options_default.highlight_modes[\n",
       "      'magic_text/x-csrc'] = {'reg':[/^%%pybind11/]};\n",
       "  Jupyter.notebook.events.one('kernel_ready.Kernel', function(){\n",
       "      Jupyter.notebook.get_cells().map(function(cell){\n",
       "          if (cell.cell_type == 'code'){ cell.auto_highlight(); } }) ;\n",
       "  });\n",
       "});\n",
       "} catch (e) {};\n"
      ]
     },
     "metadata": {},
     "output_type": "display_data"
    }
   ],
   "source": [
    "# Imports\n",
    "import numpy as np\n",
    "import scipy\n",
    "import scipy.signal as signal\n",
    "import scipy.interpolate as interpolate\n",
    "import matplotlib.pyplot as plt\n",
    "import plotly.graph_objs as go\n",
    "from plotly.subplots import make_subplots\n",
    "from scipy.interpolate import CubicSpline\n",
    "from scipy.signal import hilbert\n",
    "import numpy as np\n",
    "import ipywidgets as ipw\n",
    "import base64\n",
    "from random import randint\n",
    "from pynq import Clocks\n",
    "import xrfdc\n",
    "import os\n",
    "from pynq.lib import Pmod_IO\n",
    "import time\n",
    "\n",
    "# Use the RFSoC base overlay\n",
    "from pynq.overlays.base import BaseOverlay\n",
    "\n",
    "base = BaseOverlay('base.bit')\n",
    "\n",
    "# Start RF clocks\n",
    "base.init_rf_clks()"
   ]
  },
  {
   "cell_type": "markdown",
   "id": "5ef77002-5049-4c59-b8b9-df80f528e8b5",
   "metadata": {},
   "source": [
    "# The below block doesn't need changes\n",
    "Change sample_scaler to reduce/increase number_samples.\n",
    "Change adc_array to change which ADCs you're using."
   ]
  },
  {
   "cell_type": "code",
   "execution_count": 2,
   "id": "68a1b568-a6ce-4edc-b791-7e1669d5571e",
   "metadata": {},
   "outputs": [
    {
     "name": "stdout",
     "output_type": "stream",
     "text": [
      "Original ADC settings: {'Freq': -1228.8, 'PhaseOffset': 0.0, 'EventSource': 2, 'CoarseMixFreq': 0, 'MixerMode': 3, 'FineMixerScale': 1, 'MixerType': 2}\n",
      "New ADC settings: {'Freq': 0.0, 'PhaseOffset': 0.0, 'EventSource': 2, 'CoarseMixFreq': 0, 'MixerMode': 3, 'FineMixerScale': 1, 'MixerType': 2}\n"
     ]
    }
   ],
   "source": [
    "# ADC initialization\n",
    "# Channels\n",
    "DAC_CHANNEL_B = 0 # 'Channel 0': {'Tile': 224, 'Block': 0}\n",
    "DAC_CHANNEL_A = 1 # 'Channel 1': {'Tile': 230, 'Block': 0}\n",
    "\n",
    "ADC_CHANNEL_D = 0 # 'Channel 0': {'Tile': 224, 'Block': 0}\n",
    "ADC_CHANNEL_C = 1 # 'Channel 1': {'Tile': 224, 'Block': 1}\n",
    "ADC_CHANNEL_B = 2 # 'Channel 2': {'Tile': 226, 'Block': 0}\n",
    "ADC_CHANNEL_A = 3 # 'Channel 3': {'Tile': 226, 'Block': 1}\n",
    "\n",
    "adc_array = [ADC_CHANNEL_C, ADC_CHANNEL_A]\n",
    "\n",
    "adc_char_array = ['D', 'C', 'B', 'A']\n",
    "\n",
    "sample_scaler = 2048\n",
    "number_samples = int(32768/sample_scaler)  # Between 16 and 32768\n",
    "decimation_factor = 1 # 2 is default\n",
    "sample_frequency = 4915.2e6/decimation_factor  # Hz The default sample frequency is 4915.2e6 Hz which is sufficient for our signal\n",
    "\n",
    "original_adc_settings = base.radio.receiver.channel[ADC_CHANNEL_D].adc_block.MixerSettings\n",
    "\n",
    "for ADC in adc_array:\n",
    "    base.radio.receiver.channel[ADC].adc_block.DecimationFactor = decimation_factor\n",
    "    base.radio.receiver.channel[ADC].adc_block.MixerSettings = {\n",
    "        'CoarseMixFreq':  xrfdc.COARSE_MIX_BYPASS,\n",
    "        'EventSource':    xrfdc.EVNT_SRC_TILE, \n",
    "        'FineMixerScale': xrfdc.MIXER_SCALE_1P0,\n",
    "        'Freq':           0.0,\n",
    "        'MixerMode':      xrfdc.MIXER_MODE_R2C,\n",
    "        'MixerType':      xrfdc.MIXER_TYPE_FINE,\n",
    "        'PhaseOffset':    0.0\n",
    "    }\n",
    "    base.radio.receiver.channel[ADC].adc_block.UpdateEvent(xrfdc.EVENT_MIXER)\n",
    "    \n",
    "print(\"Original ADC settings:\", original_adc_settings)\n",
    "print(\"New ADC settings:\", base.radio.receiver.channel[ADC].adc_block.MixerSettings)"
   ]
  },
  {
   "cell_type": "markdown",
   "id": "0013ce7f-a10a-437f-9ca7-e4396bea572f",
   "metadata": {},
   "source": [
    "# Calculate beamforming weights\n",
    "Use steering angle, careful attention needed when passing them into GPIO to handle -30 vs 30 degrees case."
   ]
  },
  {
   "cell_type": "code",
   "execution_count": 3,
   "id": "8e545e05-c9d7-4939-afa9-d154a4db2680",
   "metadata": {},
   "outputs": [
    {
     "name": "stdout",
     "output_type": "stream",
     "text": [
      "beamforming_weights: [1.00000000e+00+0.j 2.83276945e-16-1.j]\n"
     ]
    }
   ],
   "source": [
    "d = 0.5 # half wavelength spacing\n",
    "Nr = len(adc_array)\n",
    "steering_angle_degrees = 30 \n",
    "steering_angle = steering_angle_degrees / 180 * np.pi # convert to radians\n",
    "beamforming_weights = np.exp(-2j * np.pi * d * np.arange(Nr) * np.sin(steering_angle)) # array factor\n",
    "print(\"beamforming_weights:\", beamforming_weights)"
   ]
  },
  {
   "cell_type": "markdown",
   "id": "554c8670-4bfc-4e5c-982d-e8389837dda5",
   "metadata": {},
   "source": [
    "# Pass them into GPIO\n",
    "Work closely with Katie on this. See this link: https://pynq.readthedocs.io/en/latest/pynq_libraries/psgpio.html"
   ]
  },
  {
   "cell_type": "code",
   "execution_count": 4,
   "id": "6d0aea92-c510-444a-a6c7-dac11e2373b8",
   "metadata": {},
   "outputs": [],
   "source": [
    "# Add GPIO Code here"
   ]
  },
  {
   "cell_type": "markdown",
   "id": "de6483a6-8e60-4aa1-8207-d31cc87c66a9",
   "metadata": {},
   "source": [
    "# Transfer data from channel that Katie ports beamforming data to\n"
   ]
  },
  {
   "cell_type": "code",
   "execution_count": 10,
   "id": "4aca84d1-25df-4ffe-ad1d-2bd1adb64878",
   "metadata": {},
   "outputs": [
    {
     "name": "stdout",
     "output_type": "stream",
     "text": [
      "16\n"
     ]
    }
   ],
   "source": [
    "beamformed_data = []\n",
    "# Something like this:\n",
    "beamformed_data.append(base.radio.receiver.channel[0].transfer(number_samples))"
   ]
  },
  {
   "cell_type": "markdown",
   "id": "38fa1ea5-2c88-49f4-bd28-c6d01af46cde",
   "metadata": {},
   "source": [
    "# Plot beamformed data\n",
    "Also add code to calculate max power"
   ]
  },
  {
   "cell_type": "code",
   "execution_count": 7,
   "id": "41207430-8dc1-474f-a006-c4c171a38881",
   "metadata": {},
   "outputs": [
    {
     "name": "stdout",
     "output_type": "stream",
     "text": [
      "16\n",
      "1\n"
     ]
    },
    {
     "ename": "ValueError",
     "evalue": "The length of `y` along `axis`=0 doesn't match the length of `x`",
     "output_type": "error",
     "traceback": [
      "\u001b[0;31m---------------------------------------------------------------------------\u001b[0m",
      "\u001b[0;31mValueError\u001b[0m                                Traceback (most recent call last)",
      "Input \u001b[0;32mIn [7]\u001b[0m, in \u001b[0;36m<cell line: 14>\u001b[0;34m()\u001b[0m\n\u001b[1;32m     11\u001b[0m dense_t \u001b[38;5;241m=\u001b[39m np\u001b[38;5;241m.\u001b[39mlinspace(time_data\u001b[38;5;241m.\u001b[39mmin(), time_data\u001b[38;5;241m.\u001b[39mmax(), \u001b[38;5;28mlen\u001b[39m(time_data) \u001b[38;5;241m*\u001b[39m \u001b[38;5;241m10\u001b[39m)  \u001b[38;5;66;03m# Increase density\u001b[39;00m\n\u001b[1;32m     13\u001b[0m sampled_signal \u001b[38;5;241m=\u001b[39m np\u001b[38;5;241m.\u001b[39mreal(beamformed_data)\n\u001b[0;32m---> 14\u001b[0m cs_real \u001b[38;5;241m=\u001b[39m \u001b[43mCubicSpline\u001b[49m\u001b[43m(\u001b[49m\u001b[43mtime_data\u001b[49m\u001b[43m,\u001b[49m\u001b[43m \u001b[49m\u001b[43msampled_signal\u001b[49m\u001b[43m)\u001b[49m\n\u001b[1;32m     16\u001b[0m \u001b[38;5;66;03m# Beamformed interpolated data\u001b[39;00m\n\u001b[1;32m     17\u001b[0m beamformed_interpolated_data\u001b[38;5;241m.\u001b[39mappend(cs_real(dense_t))\n",
      "File \u001b[0;32m/usr/lib/python3/dist-packages/scipy/interpolate/_cubic.py:629\u001b[0m, in \u001b[0;36mCubicSpline.__init__\u001b[0;34m(self, x, y, axis, bc_type, extrapolate)\u001b[0m\n\u001b[1;32m    628\u001b[0m \u001b[38;5;28;01mdef\u001b[39;00m \u001b[38;5;21m__init__\u001b[39m(\u001b[38;5;28mself\u001b[39m, x, y, axis\u001b[38;5;241m=\u001b[39m\u001b[38;5;241m0\u001b[39m, bc_type\u001b[38;5;241m=\u001b[39m\u001b[38;5;124m'\u001b[39m\u001b[38;5;124mnot-a-knot\u001b[39m\u001b[38;5;124m'\u001b[39m, extrapolate\u001b[38;5;241m=\u001b[39m\u001b[38;5;28;01mNone\u001b[39;00m):\n\u001b[0;32m--> 629\u001b[0m     x, dx, y, axis, _ \u001b[38;5;241m=\u001b[39m \u001b[43mprepare_input\u001b[49m\u001b[43m(\u001b[49m\u001b[43mx\u001b[49m\u001b[43m,\u001b[49m\u001b[43m \u001b[49m\u001b[43my\u001b[49m\u001b[43m,\u001b[49m\u001b[43m \u001b[49m\u001b[43maxis\u001b[49m\u001b[43m)\u001b[49m\n\u001b[1;32m    630\u001b[0m     n \u001b[38;5;241m=\u001b[39m \u001b[38;5;28mlen\u001b[39m(x)\n\u001b[1;32m    632\u001b[0m     bc, y \u001b[38;5;241m=\u001b[39m \u001b[38;5;28mself\u001b[39m\u001b[38;5;241m.\u001b[39m_validate_bc(bc_type, y, y\u001b[38;5;241m.\u001b[39mshape[\u001b[38;5;241m1\u001b[39m:], axis)\n",
      "File \u001b[0;32m/usr/lib/python3/dist-packages/scipy/interpolate/_cubic.py:48\u001b[0m, in \u001b[0;36mprepare_input\u001b[0;34m(x, y, axis, dydx)\u001b[0m\n\u001b[1;32m     46\u001b[0m     \u001b[38;5;28;01mraise\u001b[39;00m \u001b[38;5;167;01mValueError\u001b[39;00m(\u001b[38;5;124m\"\u001b[39m\u001b[38;5;124m`x` must contain at least 2 elements.\u001b[39m\u001b[38;5;124m\"\u001b[39m)\n\u001b[1;32m     47\u001b[0m \u001b[38;5;28;01mif\u001b[39;00m x\u001b[38;5;241m.\u001b[39mshape[\u001b[38;5;241m0\u001b[39m] \u001b[38;5;241m!=\u001b[39m y\u001b[38;5;241m.\u001b[39mshape[axis]:\n\u001b[0;32m---> 48\u001b[0m     \u001b[38;5;28;01mraise\u001b[39;00m \u001b[38;5;167;01mValueError\u001b[39;00m(\u001b[38;5;124m\"\u001b[39m\u001b[38;5;124mThe length of `y` along `axis`=\u001b[39m\u001b[38;5;132;01m{0}\u001b[39;00m\u001b[38;5;124m doesn\u001b[39m\u001b[38;5;124m'\u001b[39m\u001b[38;5;124mt \u001b[39m\u001b[38;5;124m\"\u001b[39m\n\u001b[1;32m     49\u001b[0m                      \u001b[38;5;124m\"\u001b[39m\u001b[38;5;124mmatch the length of `x`\u001b[39m\u001b[38;5;124m\"\u001b[39m\u001b[38;5;241m.\u001b[39mformat(axis))\n\u001b[1;32m     51\u001b[0m \u001b[38;5;28;01mif\u001b[39;00m \u001b[38;5;129;01mnot\u001b[39;00m np\u001b[38;5;241m.\u001b[39mall(np\u001b[38;5;241m.\u001b[39misfinite(x)):\n\u001b[1;32m     52\u001b[0m     \u001b[38;5;28;01mraise\u001b[39;00m \u001b[38;5;167;01mValueError\u001b[39;00m(\u001b[38;5;124m\"\u001b[39m\u001b[38;5;124m`x` must contain only finite values.\u001b[39m\u001b[38;5;124m\"\u001b[39m)\n",
      "\u001b[0;31mValueError\u001b[0m: The length of `y` along `axis`=0 doesn't match the length of `x`"
     ]
    }
   ],
   "source": [
    "beamformed_interpolated_data = []\n",
    "\n",
    "# Create Plotly figure for interpolated ADC data\n",
    "beamformed_fig = make_subplots(specs=[[{\"secondary_y\": False}]])  # Adjust as necessary\n",
    "\n",
    "# Needed for interpolation\n",
    "\n",
    "time_data = np.arange(0, number_samples/sample_frequency, 1/sample_frequency)\n",
    "print(len(time_data))\n",
    "print(len(beamformed_data))\n",
    "dense_t = np.linspace(time_data.min(), time_data.max(), len(time_data) * 10)  # Increase density\n",
    "    \n",
    "sampled_signal = np.real(beamformed_data)\n",
    "cs_real = CubicSpline(time_data, sampled_signal)\n",
    "\n",
    "# Beamformed interpolated data\n",
    "beamformed_interpolated_data.append(cs_real(dense_t))\n",
    "\n",
    "# Add beamformed interpolated data trace\n",
    "beamformed_fig.add_trace(\n",
    "go.Scatter(x=dense_t, y=beamformed_interpolated_data[index], name=f\"Beamformed Interpolated Data\"),\n",
    "secondary_y=False,\n",
    ")\n",
    "\n",
    "# Update layout of raw ADC data\n",
    "beamformed_fig.update_layout(\n",
    "title=f\"Time Domain Plot of ADC Channels\",\n",
    "xaxis_title=\"Time(s)\",\n",
    "yaxis_title=\"Amplitude(V)\",\n",
    ")\n",
    "\n",
    "# Show beamformed ADC data\n",
    "beamformed_fig.show()  "
   ]
  },
  {
   "cell_type": "markdown",
   "id": "cba6b9ac-8bed-4c8c-8c93-1d9f8fa53367",
   "metadata": {},
   "source": [
    "# Can also plot raw data by plotting data from a channel that isn't being used to port beamforming data\n",
    "Also add code to calculate max power"
   ]
  },
  {
   "cell_type": "code",
   "execution_count": null,
   "id": "9bd44c09-cdfc-4e66-bce4-611e76eb2576",
   "metadata": {},
   "outputs": [],
   "source": [
    "raw_data = []\n",
    "raw_interpolated_data = []\n",
    "\n",
    "# Create Plotly figure for interpolated ADC data\n",
    "raw_fig = make_subplots(specs=[[{\"secondary_y\": False}]])  # Adjust as necessary\n",
    "\n",
    "# Needed for interpolation\n",
    "time_data = np.arange(0, number_samples/sample_frequency, 1/sample_frequency)\n",
    "dense_t = np.linspace(time_data.min(), time_data.max(), len(time_data) * 10)  # Increase density\n",
    "    \n",
    "# Get chunk of data, interpolate it, and create trace\n",
    "raw_data.append(base.radio.receiver.channel[ADC].transfer(number_samples))\n",
    "sampled_signal = np.real(raw_data)\n",
    "cs_real = CubicSpline(time_data, sampled_signal)\n",
    "\n",
    "# Raw interpolated data\n",
    "raw_interpolated_data.append(cs_real(dense_t))\n",
    "\n",
    "# Add raw interpolated data trace\n",
    "raw_fig.add_trace(\n",
    "go.Scatter(x=dense_t, y=raw_interpolated_data, name=f\"Interpolated Data ADC {adc_char_array[ADC]}\"),\n",
    "secondary_y=False,\n",
    ")\n",
    "\n",
    "# Update layout of raw ADC data\n",
    "raw_fig.update_layout(\n",
    "title=f\"Time Domain Plot of ADC Channels\",\n",
    "xaxis_title=\"Time(s)\",\n",
    "yaxis_title=\"Amplitude(V)\",\n",
    ")\n",
    "\n",
    "# Show raw ADC data\n",
    "raw_fig.show() "
   ]
  },
  {
   "cell_type": "code",
   "execution_count": null,
   "id": "b06d8c81-47ba-4f42-b2f3-771ed13ea849",
   "metadata": {},
   "outputs": [],
   "source": []
  }
 ],
 "metadata": {
  "kernelspec": {
   "display_name": "Python 3 (ipykernel)",
   "language": "python",
   "name": "python3"
  },
  "language_info": {
   "codemirror_mode": {
    "name": "ipython",
    "version": 3
   },
   "file_extension": ".py",
   "mimetype": "text/x-python",
   "name": "python",
   "nbconvert_exporter": "python",
   "pygments_lexer": "ipython3",
   "version": "3.10.4"
  }
 },
 "nbformat": 4,
 "nbformat_minor": 5
}
