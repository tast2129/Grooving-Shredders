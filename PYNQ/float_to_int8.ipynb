{
 "cells": [
  {
   "cell_type": "code",
   "execution_count": 12,
   "id": "6f3354f1-d18d-4cb8-9246-858cd3476084",
   "metadata": {
    "tags": []
   },
   "outputs": [
    {
     "name": "stdout",
     "output_type": "stream",
     "text": [
      "Original: (0.75+0j), Converted: (0.7490196078431373+0.0039215686274509665j), 8-bit: (223, 128)\n"
     ]
    }
   ],
   "source": [
    "import numpy as np\n",
    "\n",
    "def complex_to_8bit(complex_weights):\n",
    "    # Extract and shift from the range of -1 to 1 to 0 to 2\n",
    "    real_shifted = complex_weights.real + 1\n",
    "    imag_shifted = complex_weights.imag + 1\n",
    "    \n",
    "    # Scale the shifted to the range of 0 to 255\n",
    "    real_scaled = real_shifted * 127.5\n",
    "    imag_scaled = imag_shifted * 127.5\n",
    "    \n",
    "    # Round the scaled real part to the nearest whole number\n",
    "    real_rounded = np.round(real_scaled)\n",
    "    imag_rounded = np.round(imag_scaled)\n",
    "    \n",
    "    # Clip the rounded value to ensure it is within the 0 to 255 range (Just a safegaurd)\n",
    "    real_clipped = np.clip(real_rounded, 0, 255)\n",
    "    imag_clipped = np.clip(imag_rounded, 0, 255)\n",
    "    \n",
    "    # Convert the clipped value to an 8-bit unsigned integer\n",
    "    real_8bit = real_clipped.astype(np.uint8)\n",
    "    imag_8bit = imag_clipped.astype(np.uint8)\n",
    "    \n",
    "    return (real_8bit, imag_8bit)\n",
    "\n",
    "def from_8bit_to_complex(real_8bit, imag_8bit):\n",
    "    # This is what will be done after the 8 bit ints are received through the gpios\n",
    "    real = (real_8bit / 127.5) - 1\n",
    "    imag = (imag_8bit / 127.5) - 1\n",
    "    return complex(real, imag)\n",
    "\n",
    "\n",
    "example_weights = complex(0.75, 0)\n",
    "real_8bit, imag_8bit = complex_to_8bit(example_weights)\n",
    "converted_back = from_8bit_to_complex(real_8bit, imag_8bit)\n",
    "\n",
    "print(f\"Original: {example_weights}, Converted: {converted_back}, 8-bit: ({real_8bit}, {imag_8bit})\")\n"
   ]
  },
  {
   "cell_type": "code",
   "execution_count": null,
   "id": "69f0ccc7-b872-408f-8b69-3fdea0287163",
   "metadata": {},
   "outputs": [],
   "source": []
  }
 ],
 "metadata": {
  "kernelspec": {
   "display_name": "Python 3 (ipykernel)",
   "language": "python",
   "name": "python3"
  },
  "language_info": {
   "codemirror_mode": {
    "name": "ipython",
    "version": 3
   },
   "file_extension": ".py",
   "mimetype": "text/x-python",
   "name": "python",
   "nbconvert_exporter": "python",
   "pygments_lexer": "ipython3",
   "version": "3.11.4"
  }
 },
 "nbformat": 4,
 "nbformat_minor": 5
}
