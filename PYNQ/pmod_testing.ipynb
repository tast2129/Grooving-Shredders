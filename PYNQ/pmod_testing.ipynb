{
 "cells": [
  {
   "cell_type": "markdown",
   "id": "d0268b3f-4f08-43cf-81f6-3f14420e9e71",
   "metadata": {},
   "source": [
    "# PMOD Testing"
   ]
  },
  {
   "cell_type": "code",
   "execution_count": 1,
   "id": "829d38ac-1b52-4201-9a18-baf3e92aa144",
   "metadata": {},
   "outputs": [
    {
     "data": {
      "application/javascript": [
       "\n",
       "try {\n",
       "require(['notebook/js/codecell'], function(codecell) {\n",
       "  codecell.CodeCell.options_default.highlight_modes[\n",
       "      'magic_text/x-csrc'] = {'reg':[/^%%microblaze/]};\n",
       "  Jupyter.notebook.events.one('kernel_ready.Kernel', function(){\n",
       "      Jupyter.notebook.get_cells().map(function(cell){\n",
       "          if (cell.cell_type == 'code'){ cell.auto_highlight(); } }) ;\n",
       "  });\n",
       "});\n",
       "} catch (e) {};\n"
      ]
     },
     "metadata": {},
     "output_type": "display_data"
    },
    {
     "data": {
      "application/javascript": [
       "\n",
       "try {\n",
       "require(['notebook/js/codecell'], function(codecell) {\n",
       "  codecell.CodeCell.options_default.highlight_modes[\n",
       "      'magic_text/x-csrc'] = {'reg':[/^%%pybind11/]};\n",
       "  Jupyter.notebook.events.one('kernel_ready.Kernel', function(){\n",
       "      Jupyter.notebook.get_cells().map(function(cell){\n",
       "          if (cell.cell_type == 'code'){ cell.auto_highlight(); } }) ;\n",
       "  });\n",
       "});\n",
       "} catch (e) {};\n"
      ]
     },
     "metadata": {},
     "output_type": "display_data"
    }
   ],
   "source": [
    "from pynq.overlays.base import BaseOverlay\n",
    "\n",
    "base = BaseOverlay('base.bit')\n",
    "\n",
    "from pynq.lib import Pmod_IO\n",
    "\n",
    "# help(Pmod_IO)\n",
    "\n",
    "# Use PIN B\n",
    "# Send a 1 to start, and a 0 zero to stop and reset"
   ]
  },
  {
   "cell_type": "code",
   "execution_count": 2,
   "id": "ea89db6f-4439-45f3-a1ce-373dc2c0bdc3",
   "metadata": {},
   "outputs": [],
   "source": [
    "# lazy_harold_rx = Pmod_IO(base.PMODB,3,'out')\n",
    "lazy_harold = Pmod_IO(base.PMODB,2,'out')\n",
    "\n"
   ]
  },
  {
   "cell_type": "code",
   "execution_count": 3,
   "id": "6a87bfd9-4b23-42b0-a70a-3389a1cb3c04",
   "metadata": {},
   "outputs": [
    {
     "data": {
      "text/plain": [
       "'RUNNING'"
      ]
     },
     "execution_count": 3,
     "metadata": {},
     "output_type": "execute_result"
    }
   ],
   "source": [
    "# lazy_harold_rx.status()\n",
    "lazy_harold.status()"
   ]
  },
  {
   "cell_type": "code",
   "execution_count": 4,
   "id": "7211851e-e867-4973-b90a-8dd01d6f81d8",
   "metadata": {},
   "outputs": [],
   "source": [
    "# lazy_harold_rx.write(1)\n"
   ]
  },
  {
   "cell_type": "code",
   "execution_count": 11,
   "id": "087df106-b141-413e-ad72-d85aac36386e",
   "metadata": {},
   "outputs": [],
   "source": [
    "lazy_harold.write(1)"
   ]
  },
  {
   "cell_type": "code",
   "execution_count": null,
   "id": "50c361d7-3462-42a0-a235-872800f6b545",
   "metadata": {},
   "outputs": [],
   "source": []
  },
  {
   "cell_type": "code",
   "execution_count": null,
   "id": "047f0a2f-f787-4953-af92-1ad934e91905",
   "metadata": {},
   "outputs": [],
   "source": []
  },
  {
   "cell_type": "code",
   "execution_count": null,
   "id": "61f61e30-269f-40b6-997c-d1a5d2ccca53",
   "metadata": {},
   "outputs": [],
   "source": []
  }
 ],
 "metadata": {
  "kernelspec": {
   "display_name": "Python 3 (ipykernel)",
   "language": "python",
   "name": "python3"
  },
  "language_info": {
   "codemirror_mode": {
    "name": "ipython",
    "version": 3
   },
   "file_extension": ".py",
   "mimetype": "text/x-python",
   "name": "python",
   "nbconvert_exporter": "python",
   "pygments_lexer": "ipython3",
   "version": "3.10.4"
  }
 },
 "nbformat": 4,
 "nbformat_minor": 5
}
