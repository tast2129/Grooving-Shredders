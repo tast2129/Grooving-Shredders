{
 "cells": [
  {
   "cell_type": "markdown",
   "id": "1d6c3325-9f4e-4c60-ae8a-9e635c0bd949",
   "metadata": {},
   "source": [
    "# Script ready for final acceptance testing"
   ]
  },
  {
   "cell_type": "markdown",
   "id": "1b60968f-db19-4bb5-b855-103c13a6afee",
   "metadata": {},
   "source": [
    "# Restart the cache"
   ]
  },
  {
   "cell_type": "code",
   "execution_count": null,
   "id": "548337c9-5e82-4ddf-981d-6b323e7c160e",
   "metadata": {},
   "outputs": [],
   "source": [
    "from pynq import PL\n",
    "PL.reset()"
   ]
  },
  {
   "cell_type": "code",
   "execution_count": null,
   "id": "12bd99c6-5286-4e99-88db-b6bbbbcca616",
   "metadata": {},
   "outputs": [],
   "source": [
    "from pynq.overlays.AXIS_Adder import AXIS_Adder\n",
    "\n",
    "beamforming = AXIS_Adder('AXIS_Adder.bit')\n",
    "beamforming.init_rf_clks()"
   ]
  },
  {
   "cell_type": "markdown",
   "id": "b04f2251-198d-491a-a01c-0d52ffe5724b",
   "metadata": {},
   "source": [
    "# Inspect beamforming overlay hierarchies and IP"
   ]
  },
  {
   "cell_type": "markdown",
   "id": "50c0e030-6d40-4bc7-b7d9-1fb3bf014ce1",
   "metadata": {},
   "source": [
    "# Initialize ADCs and number of samples"
   ]
  },
  {
   "cell_type": "code",
   "execution_count": null,
   "id": "b9536ee1-9267-4793-bd50-fd8dc8c1241d",
   "metadata": {},
   "outputs": [],
   "source": [
    "import xrfdc\n",
    "# ADC initialization\n",
    "# Channels\n",
    "DAC_CHANNEL_B = 0 # 'Channel 0': {'Tile': 224, 'Block': 0}\n",
    "DAC_CHANNEL_A = 1 # 'Channel 1': {'Tile': 230, 'Block': 0}\n",
    "\n",
    "ADC_CHANNEL_D = 0 # 'Channel 0': {'Tile': 224, 'Block': 0} ch00\n",
    "ADC_CHANNEL_C = 1 # 'Channel 1': {'Tile': 224, 'Block': 1} ch01\n",
    "ADC_CHANNEL_B = 2 # 'Channel 2': {'Tile': 226, 'Block': 0} ch20\n",
    "ADC_CHANNEL_A = 3 # 'Channel 3': {'Tile': 226, 'Block': 1} ch21\n",
    "\n",
    "# Must be in reverse order (i.e. C must come before B which must come before A)\n",
    "adc_array = [ADC_CHANNEL_D, ADC_CHANNEL_C, ADC_CHANNEL_B, ADC_CHANNEL_A]\n",
    "\n",
    "adc_char_array = ['D', 'C', 'B', 'A']\n",
    "\n",
    "sample_scaler = 2048\n",
    "number_samples = int(32768/sample_scaler)  # Between 16 and 32768\n",
    "decimation_factor = 1 # 2 is default\n",
    "sample_frequency = 4915.2e6/decimation_factor  # Hz The default sample frequency is 4915.2e6 Hz which is sufficient for our signal\n",
    "\n",
    "original_adc_settings = beamforming.radio.receiver.channel[ADC_CHANNEL_D].adc_block.MixerSettings\n",
    "\n",
    "# for ADC in adc_array:\n",
    "#     beamforming.radio.receiver.channel[ADC].adc_block.DecimationFactor = decimation_factor\n",
    "#     beamforming.radio.receiver.channel[ADC].adc_block.MixerSettings = {\n",
    "#         'CoarseMixFreq':  xrfdc.COARSE_MIX_BYPASS,\n",
    "#         'EventSource':    xrfdc.EVNT_SRC_TILE, \n",
    "#         'FineMixerScale': xrfdc.MIXER_SCALE_1P0,\n",
    "#         'Freq':           1, #fs/4\n",
    "#         'MixerMode':      xrfdc.MIXER_MODE_R2C,\n",
    "#         'MixerType':      xrfdc.MIXER_TYPE_FINE,\n",
    "#         'PhaseOffset':    0.0\n",
    "#     }\n",
    "#     beamforming.radio.receiver.channel[ADC].adc_block.UpdateEvent(xrfdc.EVENT_MIXER)\n",
    "    \n",
    "print(\"Original ADC settings:\", original_adc_settings)\n",
    "#print(\"New ADC settings:\", beamforming.radio.receiver.channel[ADC].adc_block.MixerSettings)"
   ]
  },
  {
   "cell_type": "markdown",
   "id": "8f9343ef-0b70-44fd-8c02-12ca34dcad0f",
   "metadata": {},
   "source": [
    "# Calculate beamforming weights"
   ]
  },
  {
   "cell_type": "code",
   "execution_count": null,
   "id": "0b75a073-101a-4601-9eee-86508de52622",
   "metadata": {},
   "outputs": [],
   "source": [
    "import numpy as np\n",
    "d = 0.5 # half wavelength spacing\n",
    "Nr = len(adc_array)\n",
    "steering_angle_degrees = int(input(\"Input the steering angle in degrees:\"))\n",
    "steering_angle = steering_angle_degrees / 180 * np.pi # convert to radians\n",
    "if steering_angle_degrees > 0:\n",
    "    beamforming_weights = np.exp(-2j * np.pi * d * np.arange(Nr) * np.sin(steering_angle)) # array factor\n",
    "else:\n",
    "    beamforming_weights = np.exp(-2j * np.pi * d * np.arange(Nr)[ : :-1] * np.sin(steering_angle)) # array factor\n",
    "print(\"beamforming_weights:\", beamforming_weights)"
   ]
  },
  {
   "cell_type": "markdown",
   "id": "a7bc8945-e904-4ff1-89bf-d1a7c9bb4223",
   "metadata": {},
   "source": [
    "# Pass them into GPIO"
   ]
  },
  {
   "cell_type": "code",
   "execution_count": null,
   "id": "28435c76-c704-44ed-a0f4-3b72de36c266",
   "metadata": {},
   "outputs": [],
   "source": [
    "from pynq.lib import AxiGPIO\n",
    "\n",
    "def float_to_8bit(weight):\n",
    "    # Extract and shift from the range of -1 to 1 to 0 to 2\n",
    "    #real_shifted = weight + 1\n",
    "    \n",
    "    # Integer scale to the range of -127 to 127\n",
    "    real_scaled = weight * 127/2\n",
    "    \n",
    "    # Round the scaled real part to the nearest whole number\n",
    "    real_rounded = np.round(real_scaled)\n",
    "    \n",
    "    # Clip the rounded value to ensure it is within the -127 to 127 range (Just a safegaurd)\n",
    "    real_clipped = np.clip(real_rounded, -127, 127)\n",
    "    \n",
    "    # Convert the clipped value to a signed 8-bit integer\n",
    "    real_8bit = real_clipped.astype(np.int8)\n",
    "    \n",
    "    return real_8bit\n",
    "\n",
    "def from_8bit_to_complex(real_8bit, imag_8bit):\n",
    "    # This is what will be done after the 8 bit ints are received through the gpios\n",
    "    real = real_8bit / (127/2)\n",
    "    imag = imag_8bit / (127/2)\n",
    "    return complex(real, imag)\n",
    "    \n",
    "\n",
    "real_ip = beamforming.ip_dict['bWeights_real'] # real_bWeights\n",
    "imag_ip = beamforming.ip_dict['bWeights_imag'] # imag_bWeights\n",
    "\n",
    "real = AxiGPIO(real_ip).channel1\n",
    "imag = AxiGPIO(imag_ip).channel1\n",
    "\n",
    "zeroed_weights = []\n",
    "for ADC in adc_array:\n",
    "    zeroed_weights.append(0+0j)\n",
    "    \n",
    "#beamforming_weights = zeroed_weights\n",
    "\n",
    "b_real = 0\n",
    "b_imag = 0\n",
    "for ADC in adc_array:\n",
    "    if ADC == 0:\n",
    "        shift = 0\n",
    "    elif ADC == 1:\n",
    "        shift = 8\n",
    "    elif ADC == 2:\n",
    "        shift = 16\n",
    "    elif ADC == 3:\n",
    "        shift = 24\n",
    "\n",
    "    real_part = float_to_8bit(np.real(beamforming_weights[ADC]))\n",
    "    imag_part = float_to_8bit(np.imag(beamforming_weights[ADC]))\n",
    "\n",
    "    b_real = b_real | real_part << shift\n",
    "    b_imag = b_imag | imag_part << shift\n",
    "\n",
    "    test_ = from_8bit_to_complex(real_part, imag_part)\n",
    "    print(\"Conversion errors for beamforming weight for ADC\", adc_char_array[ADC])\n",
    "    print(\"Real part:\", 100*abs(1-(np.real(test_)/np.real(beamforming_weights[ADC]))), \"%\")\n",
    "    if np.imag(beamforming_weights[ADC]) == 0:\n",
    "        print(\"Imag part is\", np.imag(test_), \"off of anticipated value of 0.\")\n",
    "    else:\n",
    "        print(\"Imag part:\", 100*abs(1-(np.imag(test_)/np.imag(beamforming_weights[ADC]))), \"%\")\n",
    "\n",
    "print(\"b_real:\", int(b_real))\n",
    "print(\"b_imag:\", int(b_imag))\n",
    "real.write(0xffffffff, 0x00000000)\n",
    "imag.write(0xffffffff, 0x00000000)\n",
    "real.write(0xffffffff, int(b_real))\n",
    "imag.write(0xffffffff, int(b_imag))\n",
    "\n",
    "print(beamforming.bWeights_real.register_map)\n",
    "print(beamforming.bWeights_imag.register_map)"
   ]
  },
  {
   "cell_type": "markdown",
   "id": "1ce08ac6-e998-46a8-810d-1bc678cdef6d",
   "metadata": {},
   "source": [
    "# Transfer beamformed data"
   ]
  },
  {
   "cell_type": "code",
   "execution_count": null,
   "id": "d575e47f-cb1b-44f2-a26e-71b864daab85",
   "metadata": {},
   "outputs": [],
   "source": [
    "#beamforming.radio.receiver.channel_00.axi_dma_real.recvchannel.start()\n",
    "#beamforming.radio.receiver.channel_00.axi_dma_imag.recvchannel.start()"
   ]
  },
  {
   "cell_type": "code",
   "execution_count": null,
   "id": "7923f965-0a6c-4a96-8b33-42c313747da6",
   "metadata": {},
   "outputs": [],
   "source": [
    "import pandas as pd\n",
    "# writer = pd.ExcelWriter('ADC_Data.xlsx', engine='xlsxwriter')\n",
    "beamformed_data = []\n",
    "# Something like this:\n",
    "for ADC in adc_array: \n",
    "    beamformed_data.append(beamforming.radio.receiver.channel[ADC].transfer(number_samples))\n",
    "data = pd.DataFrame(beamformed_data)\n",
    "data.to_excel(\"ADC_Data.xlsx\")\n",
    "\n",
    "print(beamforming.radio.receiver.channel_00.axi_dma_real.register_map)"
   ]
  },
  {
   "cell_type": "markdown",
   "id": "91911b88-87f3-49b2-a7f5-59919103ddcc",
   "metadata": {},
   "source": [
    "# Plot beamformed data\n",
    "Also add code to calculate max power"
   ]
  },
  {
   "cell_type": "code",
   "execution_count": null,
   "id": "641067d4-3b24-4f31-847f-20772f46540e",
   "metadata": {},
   "outputs": [],
   "source": [
    "import plotly.graph_objs as go\n",
    "from plotly.subplots import make_subplots\n",
    "from scipy.interpolate import CubicSpline\n",
    "import numpy as np\n",
    "\n",
    "beamformed_interpolated_data = []\n",
    "\n",
    "# Create Plotly figure for interpolated ADC data\n",
    "beamformed_fig = make_subplots(specs=[[{\"secondary_y\": False}]])  # Adjust as necessary\n",
    "\n",
    "# Needed for interpolation\n",
    "\n",
    "time_data = np.arange(0, number_samples/sample_frequency, 1/sample_frequency)\n",
    "dense_t = np.linspace(time_data.min(), time_data.max(), len(time_data) * 10)  # Increase density\n",
    "\n",
    "for ADC in adc_array:\n",
    "    sampled_signal = np.real(beamformed_data[ADC])\n",
    "    cs_real = CubicSpline(time_data, sampled_signal)\n",
    "\n",
    "    # Beamformed interpolated data\n",
    "    beamformed_interpolated_data.append(cs_real(dense_t))\n",
    "\n",
    "    # Add beamformed interpolated data trace\n",
    "    beamformed_fig.add_trace(\n",
    "    go.Scatter(x=dense_t, y=beamformed_interpolated_data[ADC], name=f\"ADC \" + adc_char_array[ADC] + \" Data\"),\n",
    "    secondary_y=False,\n",
    "    )\n",
    "\n",
    "# Update layout of raw ADC data\n",
    "#beamformed_fig.update_yaxes(title_text=\"yaxis title\", range=[-1, 1], row=1, col=1)\n",
    "beamformed_fig.update_layout(\n",
    "title=f\"Time Domain Plot of ADC Channels\",\n",
    "xaxis_title=\"Time(s)\",\n",
    "yaxis_title=\"Amplitude(V)\",\n",
    ")\n",
    "\n",
    "# Show beamformed ADC data\n",
    "beamformed_fig.show()  \n",
    "print(beamforming.radio.receiver.channel_00.axi_dma_imag.register_map)"
   ]
  }
 ],
 "metadata": {
  "kernelspec": {
   "display_name": "Python 3 (ipykernel)",
   "language": "python",
   "name": "python3"
  },
  "language_info": {
   "codemirror_mode": {
    "name": "ipython",
    "version": 3
   },
   "file_extension": ".py",
   "mimetype": "text/x-python",
   "name": "python",
   "nbconvert_exporter": "python",
   "pygments_lexer": "ipython3",
   "version": "3.10.4"
  }
 },
 "nbformat": 4,
 "nbformat_minor": 5
}
