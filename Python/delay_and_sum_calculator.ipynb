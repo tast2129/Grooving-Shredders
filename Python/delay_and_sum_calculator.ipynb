{
 "cells": [
  {
   "cell_type": "code",
   "execution_count": 17,
   "id": "d16d552f-caf2-4e81-bbf7-b55f1c260710",
   "metadata": {
    "tags": []
   },
   "outputs": [
    {
     "data": {
      "text/plain": [
       "[0.0, 2.0161290322580644e-10, 4.032258064516129e-10, 6.048387096774193e-10]"
      ]
     },
     "execution_count": 17,
     "metadata": {},
     "output_type": "execute_result"
    }
   ],
   "source": [
    "def calculate_delays(angle_deg, frequency=1.24e9, num_elements=4):\n",
    "    \"\"\"\n",
    "    Calculate the delays required for each antenna element in a linear array based on the input angle.\n",
    "    \n",
    "    Parameters:\n",
    "    angle_deg (float): The angle of arrival of the signal in degrees.\n",
    "    frequency (float): The frequency of the signal in Hz. Default is 1.24 GHz.\n",
    "    num_elements (int): The number of antenna elements in the array.\n",
    "    \n",
    "    Returns:\n",
    "    list of floats: The delay for each antenna element in seconds.\n",
    "    \"\"\"\n",
    "    import numpy as np\n",
    "    \n",
    "    # Constants\n",
    "    c = 3e8  # Speed of light in m/s\n",
    "    # speed of light in air:\n",
    "    v = c * 0.9997\n",
    "\n",
    "    # Calculate wavelength\n",
    "    wavelength = v / frequency\n",
    "\n",
    "    # Determine the spacing between antenna elements\n",
    "    d = wavelength / 2\n",
    "\n",
    "    # Convert angle from degrees to radians\n",
    "    angle_rad = np.radians(angle_deg)\n",
    "\n",
    "    # Calculate delays\n",
    "    delays = [(i * d * np.sin(angle_rad)) / c for i in range(num_elements)]\n",
    "\n",
    "    return delays\n",
    "\n",
    "# Example usage: Calculate delays for an input angle of 30 degrees\n",
    "angle = 30  # degrees\n",
    "sma_meth = False\n",
    "delays = calculate_delays(angle, sma_meth)\n",
    "delays"
   ]
  },
  {
   "cell_type": "code",
   "execution_count": null,
   "id": "5265b767-2ace-4271-b040-b41bb43eb4ac",
   "metadata": {},
   "outputs": [],
   "source": []
  }
 ],
 "metadata": {
  "kernelspec": {
   "display_name": "Python 3 (ipykernel)",
   "language": "python",
   "name": "python3"
  },
  "language_info": {
   "codemirror_mode": {
    "name": "ipython",
    "version": 3
   },
   "file_extension": ".py",
   "mimetype": "text/x-python",
   "name": "python",
   "nbconvert_exporter": "python",
   "pygments_lexer": "ipython3",
   "version": "3.11.4"
  }
 },
 "nbformat": 4,
 "nbformat_minor": 5
}
